{
 "cells": [
  {
   "cell_type": "code",
   "execution_count": null,
   "metadata": {},
   "outputs": [],
   "source": [
    "import convokit"
   ]
  },
  {
   "cell_type": "code",
   "execution_count": null,
   "metadata": {},
   "outputs": [],
   "source": [
    "corpus = convokit.Corpus(filename=convokit.download(\"conversations-gone-awry-corpus\"))"
   ]
  },
  {
   "cell_type": "code",
   "execution_count": null,
   "metadata": {
    "scrolled": true
   },
   "outputs": [],
   "source": [
    "def show_convo(c):\n",
    "    for id in c._utterance_ids: \n",
    "        u = corpus.get_utterance(id) \n",
    "        print(f'{u.user.name}\\t{u.text}\\n')"
   ]
  },
  {
   "cell_type": "code",
   "execution_count": null,
   "metadata": {},
   "outputs": [],
   "source": [
    "# found in Rank.py\n",
    "import Rank"
   ]
  },
  {
   "cell_type": "code",
   "execution_count": null,
   "metadata": {},
   "outputs": [],
   "source": [
    "# attempt 1 using the transformer\n",
    "ranker = Rank.Rank()\n",
    "print(f'there are {len(corpus.conversations)} conversations in the corpus')\n",
    "mcorp = ranker.transform(corpus)\n",
    "ranked = ranker.order(mcorp)"
   ]
  },
  {
   "cell_type": "code",
   "execution_count": null,
   "metadata": {
    "scrolled": false
   },
   "outputs": [],
   "source": [
    "# displaying results from the transformer\n",
    "print(len(ranked))\n",
    "for r in ranked:\n",
    "    print(f'rank is {r.meta[\"rank\"]}')\n",
    "    show_convo(r)\n",
    "    i = input()\n",
    "          "
   ]
  },
  {
   "cell_type": "code",
   "execution_count": null,
   "metadata": {},
   "outputs": [],
   "source": [
    "# atttempt 2 without using the transformer structure\n",
    "from importlib import reload\n",
    "reload(Rank)\n",
    "ranker = Rank.Rank()\n",
    "for (r,_,convo) in ranker.rank(corpus):\n",
    "    print(f'rank is {r}')\n",
    "    show_convo(convo)\n",
    "    i = input()"
   ]
  }
 ],
 "metadata": {
  "kernelspec": {
   "display_name": "Python 3",
   "language": "python",
   "name": "python3"
  },
  "language_info": {
   "codemirror_mode": {
    "name": "ipython",
    "version": 3
   },
   "file_extension": ".py",
   "mimetype": "text/x-python",
   "name": "python",
   "nbconvert_exporter": "python",
   "pygments_lexer": "ipython3",
   "version": "3.7.4"
  }
 },
 "nbformat": 4,
 "nbformat_minor": 2
}
